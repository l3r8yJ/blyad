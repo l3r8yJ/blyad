{
 "cells": [
  {
   "cell_type": "code",
   "execution_count": 26,
   "metadata": {
    "collapsed": true
   },
   "outputs": [],
   "source": [
    "import fnmatch\n",
    "import os\n",
    "import json\n",
    "import matplotlib.pyplot as plt\n",
    "import numpy as np"
   ]
  },
  {
   "cell_type": "code",
   "execution_count": null,
   "outputs": [
    {
     "name": "stderr",
     "output_type": "stream",
     "text": [
      "2022/11/12 00:21:37 h = 0.000105\n",
      "2022/11/12 00:21:42 M_1_1 = 20 eps_1_1 = 5.65259 dif_1_1 = 5.70907 \n",
      "2022/11/12 00:21:42 ZV_1_1 took 4.722385625s\n"
     ]
    }
   ],
   "source": [
    "os.system('go run main.go')"
   ],
   "metadata": {
    "collapsed": false,
    "pycharm": {
     "is_executing": true
    }
   }
  },
  {
   "cell_type": "code",
   "execution_count": null,
   "outputs": [],
   "source": [
    "def graph(name: str) -> None:\n",
    "  f_case = open(name)\n",
    "  data_case = json.load(f_case)\n",
    "  x_axis = np.array(data_case['XAXIS'])\n",
    "  fy_axis = np.array(data_case['YAXIS'])\n",
    "  N = data_case['N']\n",
    "  M = data_case['M']\n",
    "  r = data_case['R']\n",
    "  phi = data_case['PHI']\n",
    "  eps = data_case['EPS']\n",
    "  delta = data_case['DELTA']\n",
    "  plt.figure(figsize=(10, 8))\n",
    "  plt.rcParams[\"font.family\"] = \"serif\"\n",
    "  plt.rcParams[\"font.serif\"] = [\"Times New Roman\"]\n",
    "  plt.xlabel('x')\n",
    "  plt.ylabel('y')\n",
    "  plt.plot(x_axis, fy_axis, color='g', label='f(x)', lw=2, fillstyle='none')#f(x)\n",
    "  font = {\n",
    "    'size': 20\n",
    "  }\n",
    "  plt.figtext(\n",
    "    0,\n",
    "    1,\n",
    "    f\"N: {N}\\n\"\n",
    "    f\"eps: {eps}\\n\"\n",
    "    f\"diff: {data_case['DIFF']}\\n\"\n",
    "    f\"M: {M}\\n\"\n",
    "    f\"delta: {delta}\\n\"\n",
    "    f\"{name}\",\n",
    "    fontdict=font\n",
    "  )\n",
    "  cx_axis = [[]*(N+1) for i in range(N+1)] #точки\n",
    "  cy_axis = [[]*(N+1) for i in range(N+1)]\n",
    "\n",
    "  for j in range (N+1):\n",
    "    cy_axis[j] = np.arange(r[j],r[j]+delta, delta+1)\n",
    "    for x in cy_axis[j]:\n",
    "      cx_axis[j].append(phi[j])\n",
    "  for j in range(N):\n",
    "    plt.plot(cx_axis[j], cy_axis[j], color='r', lw=5, fillstyle='full', marker='o')\n",
    "  plt.legend()\n",
    "  plt.show()"
   ],
   "metadata": {
    "collapsed": false,
    "pycharm": {
     "is_executing": true
    }
   }
  },
  {
   "cell_type": "code",
   "execution_count": null,
   "outputs": [],
   "source": [
    "jsons = [f for f in os.listdir(\"json/\") if fnmatch.fnmatch(f, '*.json')]\n",
    "jsons.sort()\n",
    "for i in range(len(jsons)):\n",
    "  graph(f\"json/{jsons[i]}\")"
   ],
   "metadata": {
    "collapsed": false,
    "pycharm": {
     "is_executing": true
    }
   }
  },
  {
   "cell_type": "code",
   "execution_count": null,
   "outputs": [],
   "source": [
    "for i in range(len(jsons)):\n",
    "  os.remove(f\"json/{jsons[i]}\")"
   ],
   "metadata": {
    "collapsed": false,
    "pycharm": {
     "is_executing": true
    }
   }
  }
 ],
 "metadata": {
  "kernelspec": {
   "display_name": "Python 3",
   "language": "python",
   "name": "python3"
  },
  "language_info": {
   "codemirror_mode": {
    "name": "ipython",
    "version": 2
   },
   "file_extension": ".py",
   "mimetype": "text/x-python",
   "name": "python",
   "nbconvert_exporter": "python",
   "pygments_lexer": "ipython2",
   "version": "2.7.6"
  }
 },
 "nbformat": 4,
 "nbformat_minor": 0
}
